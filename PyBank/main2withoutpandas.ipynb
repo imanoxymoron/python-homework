{
 "cells": [
  {
   "cell_type": "code",
   "execution_count": 1,
   "metadata": {},
   "outputs": [],
   "source": [
    "# import statements for reading csv\n",
    "\n",
    "from pathlib import Path\n",
    "import csv"
   ]
  },
  {
   "cell_type": "code",
   "execution_count": 2,
   "metadata": {},
   "outputs": [
    {
     "data": {
      "text/plain": [
       "WindowsPath('C:/Users/Sean/Desktop')"
      ]
     },
     "execution_count": 2,
     "metadata": {},
     "output_type": "execute_result"
    }
   ],
   "source": [
    "# checking where I am\n",
    "\n",
    "Path.cwd()"
   ]
  },
  {
   "cell_type": "code",
   "execution_count": 3,
   "metadata": {},
   "outputs": [],
   "source": [
    "file_new = open('python-homework/PyBank/homework2.txt','w')"
   ]
  },
  {
   "cell_type": "code",
   "execution_count": 4,
   "metadata": {},
   "outputs": [],
   "source": [
    "csvpath = Path('python-homework/PyBank/homeworkdata.csv')"
   ]
  },
  {
   "cell_type": "code",
   "execution_count": 5,
   "metadata": {},
   "outputs": [],
   "source": [
    "# Open the csv file as an object\n",
    "with open(csvpath, 'r') as csvfile:\n",
    "    csvreader = csv.reader(csvfile, delimiter=',')\n",
    "     # Read the header row first (skip this step if there is no header)\n",
    "    csv_header = next(csvreader)\n",
    "    # Print the header\n",
    "    \n",
    "\n",
    "    \n",
    "    \n",
    "    new_list =[]\n",
    "    date_list =[]\n",
    "    for row in csvreader:\n",
    "        new_list.append((int(row[1])))\n",
    "        date_list.append(row[0])\n",
    "        \n",
    "# The total number of months included in the dataset.\n",
    "        \n",
    "total_months =len(new_list)\n",
    "total = 0\n",
    "for number in new_list:\n",
    "    total +=number\n",
    "    \n"
   ]
  },
  {
   "cell_type": "code",
   "execution_count": 6,
   "metadata": {},
   "outputs": [],
   "source": [
    "change_list =  [new_list[i + 1] - new_list[i] for i in range(len(new_list)-1)] \n",
    "change_list_copy = change_list"
   ]
  },
  {
   "cell_type": "code",
   "execution_count": 7,
   "metadata": {},
   "outputs": [],
   "source": [
    "average_change = 0\n",
    "change_total = 0\n",
    "for x in change_list:\n",
    "    change_total +=x\n",
    "\n",
    "average_change = change_total/((total_months)-1)   \n",
    "    "
   ]
  },
  {
   "cell_type": "code",
   "execution_count": 8,
   "metadata": {},
   "outputs": [
    {
     "name": "stdout",
     "output_type": "stream",
     "text": [
      "[116771, -662642, -391430, 379920, 212354, 510239, -428211, -821271, 693918, 416278, -974163, 860159, -1115009, 1033048, 95318, -308093, 99052, -521393, 605450, 231727, -65187, -702716, 177975, -1065544, 1926159, -917805, 898730, -334262, -246499, -64055, -1529236, 1497596, 304914, -635801, 398319, -183161, -37864, -253689, 403655, 94168, 306877, -83000, 210462, -2196167, 1465222, -956983, 1838447, -468003, -64602, 206242, -242155, -449079, 315198, 241099, 111540, 365942, -219310, -368665, 409837, 151210, -110244, -341938, -1212159, 683246, -70825, 335594, 417334, -272194, -236462, 657432, -211262, -128237, -1750387, 925441, 932089, -311434, 267252, -1876758, 1733696, 198551, -665765, 693229, -734926, 77242, 532869]\n"
     ]
    }
   ],
   "source": [
    "print(change_list_copy)"
   ]
  },
  {
   "cell_type": "code",
   "execution_count": 9,
   "metadata": {},
   "outputs": [],
   "source": [
    "change_list.sort()\n",
    "greatest_increase = change_list[-1]\n",
    "greatest_decrease = change_list[0]\n",
    "\n"
   ]
  },
  {
   "cell_type": "code",
   "execution_count": 10,
   "metadata": {},
   "outputs": [
    {
     "name": "stdout",
     "output_type": "stream",
     "text": [
      "17-Feb\n",
      "10-Feb\n"
     ]
    }
   ],
   "source": [
    "date_index_max =change_list_copy.index(greatest_increase)\n",
    "date_index_min = change_list_copy.index(greatest_decrease)\n",
    "\n",
    "date_max = date_list[date_index_max+1]\n",
    "date_min = date_list[date_index_min+1]\n",
    "\n",
    "print(date_max)\n",
    "print(date_min)"
   ]
  },
  {
   "cell_type": "code",
   "execution_count": 11,
   "metadata": {},
   "outputs": [
    {
     "name": "stdout",
     "output_type": "stream",
     "text": [
      "Financial Analysis\n",
      "----------------------------------\n",
      "Total Months: 86\n",
      "Total: $38382578\n",
      "Average Change: $-2315.1176470588234\n",
      "Greatest Increase in Profits: 17-Feb ($1926159)\n",
      "Greatest Decrease in Profits: 10-Feb ($-2196167)\n"
     ]
    }
   ],
   "source": [
    "print('Financial Analysis')\n",
    "print('----------------------------------')\n",
    "\n",
    "\n",
    "print(f\"Total Months: {total_months}\")\n",
    "print(f\"Total: ${total}\")\n",
    "print(f\"Average Change: ${average_change}\")\n",
    "print(f\"Greatest Increase in Profits: {date_max} (${greatest_increase})\")\n",
    "print(f\"Greatest Decrease in Profits: {date_min} (${greatest_decrease})\")"
   ]
  },
  {
   "cell_type": "code",
   "execution_count": 12,
   "metadata": {},
   "outputs": [],
   "source": [
    "print('Financial Analysis', file=file_new)\n",
    "print('----------------------------------',file = file_new)\n",
    "\n",
    "\n",
    "print(f\"Total Months: {total_months}\", file =file_new)\n",
    "print(f\"Total: ${total}\", file = file_new)\n",
    "print(f\"Average Change: ${average_change}\", file = file_new)\n",
    "print(f\"Greatest Increase in Profits: {date_max} (${greatest_increase})\", file = file_new)\n",
    "print(f\"Greatest Decrease in Profits: {date_min} (${greatest_decrease})\", file = file_new)"
   ]
  },
  {
   "cell_type": "code",
   "execution_count": 13,
   "metadata": {},
   "outputs": [],
   "source": [
    "file_new.close()"
   ]
  },
  {
   "cell_type": "code",
   "execution_count": null,
   "metadata": {},
   "outputs": [],
   "source": []
  }
 ],
 "metadata": {
  "kernelspec": {
   "display_name": "Python 3",
   "language": "python",
   "name": "python3"
  },
  "language_info": {
   "codemirror_mode": {
    "name": "ipython",
    "version": 3
   },
   "file_extension": ".py",
   "mimetype": "text/x-python",
   "name": "python",
   "nbconvert_exporter": "python",
   "pygments_lexer": "ipython3",
   "version": "3.7.9"
  }
 },
 "nbformat": 4,
 "nbformat_minor": 4
}
